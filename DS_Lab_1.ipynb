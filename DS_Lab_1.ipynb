{
  "nbformat": 4,
  "nbformat_minor": 0,
  "metadata": {
    "colab": {
      "provenance": []
    },
    "kernelspec": {
      "name": "python3",
      "display_name": "Python 3"
    },
    "language_info": {
      "name": "python"
    }
  },
  "cells": [
    {
      "cell_type": "code",
      "execution_count": null,
      "metadata": {
        "id": "8Do4p3vl6fgt"
      },
      "outputs": [],
      "source": [
        "# Q:1 Problem 1: File Handling – Perform all the following operations using Python\n",
        "\n",
        "# a. Create a textfile named ‘TLP_YourName.txt’ using Python and write some of the key concepts you have learned from TLP classes so far into the file.\n",
        "\n",
        "# b. Define a function that returns the number of lines and number of characters (including spaces) in the above file.\n",
        "\n",
        "# c. Define a function such that if the function in part (b) indicates that the file has less than 2 lines OR 50 characters,\n",
        "# add additional writeup to the files until it exceeds both 2 lines and 50 characters.\n",
        "\n",
        "# d. Define a function that asks a user to input a word and checks whether the word exists in the file. The search should be case-insensitive.\n",
        "# If the word exists, then the function should return a TRUE else FALSE.\n",
        "\n",
        "# e. Define a function that returns the longest and shortest word in the file.\n",
        "\n",
        "# f. Define a function that swaps every two adjacent words in the file. (e.g. I want to code -à want I code to)."
      ]
    },
    {
      "cell_type": "code",
      "source": [
        "# Problem 2: Exception Handling – Here are some well-known errors in Python that can be handled through the try and except statements:\n",
        "\n",
        "# a. ZeroDivisionError: This error occurs when you try to divide a number by 0.\n",
        "\n",
        "# b. FileNotFoundError: This error occurs when you try to open a file that does not exist.\n",
        "\n",
        "# c. KeyError: This error occurs when you try to access a key that does not exist in a dictionary.\n",
        "\n",
        "# d. IndexError: This error occurs when you try to access an index that is out of bounds for a list or string.\n",
        "\n",
        "# e. TypeError: This error occurs when you try to perform an operation on an object of an invalid type.\n",
        "\n",
        "# f. ValueError: This error occurs when you try to pass an invalid value to a function or operator.\n",
        "\n",
        "# Write some functions (of your choice) that can have one or many such errors and handle them accordingly using try and except.\n",
        "# For example: Write a function that takes an input of two integers, 'a' and 'b' and returns a/b. However, if the denominator is 0\n",
        "# or the user inputs a non-integer input, the program should use the appropriate exception to alert the user.\n",
        "# Thus, this function should thus handle the two errors mentioned above"
      ],
      "metadata": {
        "id": "HPnwVaCo6w6i"
      },
      "execution_count": null,
      "outputs": []
    },
    {
      "cell_type": "code",
      "source": [
        "# a.\n",
        "f= open(\"TLP_Devesh.txt\", \"w+\")\n",
        "f.write(\"The importance of predicting the error before hand. \\n Writing docstrings for better information to user\")\n",
        "content = f.read()\n",
        "print(type(content))\n",
        "\n",
        "# b.\n",
        "def no_of(f):\n",
        "  lines = content.count(\"\\n\")+1\n",
        "  chars = len(content)\n",
        "  return lines, chars\n",
        "\n",
        "# c.\n",
        "def checkup(f):\n",
        "  f = open(\"TLP_Devesh.txt\", \"a+\")\n",
        "  f.seek(0) # Noteto Self, It's important to close the file or use seek otherwise pointer problems\n",
        "  lines, chars = no_of(f)\n",
        "  if lines < 2 or chars < 50:\n",
        "    f.write(\"Something is true too \\n says the same\")"
      ],
      "metadata": {
        "colab": {
          "base_uri": "https://localhost:8080/"
        },
        "id": "5ljCMcbB7L5G",
        "outputId": "13957585-da50-4965-b915-a91f795a4b7d"
      },
      "execution_count": 72,
      "outputs": [
        {
          "output_type": "stream",
          "name": "stdout",
          "text": [
            "<class 'str'>\n",
            "<class 'list'>\n"
          ]
        }
      ]
    },
    {
      "cell_type": "code",
      "source": [
        "# d\n",
        "def we_try(x):\n",
        "  x = x.lower()\n",
        "  f = open(\"TLP_Devesh.txt\", \"r\")\n",
        "  f.seek(0)\n",
        "  c = f.read()\n",
        "  c1 = c.lower()\n",
        "  c2 = c1.split()\n",
        "  for i in c2:\n",
        "    if i ==x:\n",
        "      return True\n",
        "  return False\n",
        "  f.close()\n",
        "\n",
        "x_1 = input()\n",
        "we_try(x_1)"
      ],
      "metadata": {
        "colab": {
          "base_uri": "https://localhost:8080/"
        },
        "id": "uoU8iv-l9HBG",
        "outputId": "ef7ce739-4c66-46d9-dbbd-bca6d012c5ce"
      },
      "execution_count": 68,
      "outputs": [
        {
          "name": "stdout",
          "output_type": "stream",
          "text": [
            "of\n"
          ]
        },
        {
          "output_type": "execute_result",
          "data": {
            "text/plain": [
              "True"
            ]
          },
          "metadata": {},
          "execution_count": 68
        }
      ]
    },
    {
      "cell_type": "code",
      "source": [
        "# e\n",
        "def short_long(f):\n",
        "  shortest_words = \"\"\n",
        "  longest_words = \"\"\n",
        "  with open(\"TLP_Devesh.txt\", \"r+\"):\n",
        "    con = f.read()\n",
        "    con1 = con.split()\n",
        "  for word in con1:\n",
        "    if len(word) > len(longest_word):\n",
        "      longest_word = word\n",
        "    if len(word) < len(shortest_word):\n",
        "      shortest_word = word\n",
        "  return (longest_words, shortest_words)\n",
        "\n",
        "print(short_long(f))"
      ],
      "metadata": {
        "colab": {
          "base_uri": "https://localhost:8080/"
        },
        "id": "JlMaZFlvAKLE",
        "outputId": "aa163f55-0e37-4d92-deca-05341bf988ff"
      },
      "execution_count": 85,
      "outputs": [
        {
          "output_type": "stream",
          "name": "stdout",
          "text": [
            "('', '')\n"
          ]
        }
      ]
    },
    {
      "cell_type": "code",
      "source": [
        "def swap_adjacent_words(filename):\n",
        "  f = open(filename, \"r\")\n",
        "  text = f.read()\n",
        "  f.close()\n",
        "  words = text.split() # Split the text by whitespace into a list of words\n",
        "  swapped_words = [] # Initialize an empty list to store the swapped words\n",
        "  for i in range(0, len(words), 2):  # Loop through the words in the list in pairs\n",
        "    if i + 1 < len(words): # Check if there are two words in the current pair\n",
        "      swapped_words.append(words[i+1])\n",
        "      swapped_words.append(words[i])\n",
        "    else: # If there is only one word left, append it as it is\n",
        "      swapped_words.append(words[i])\n",
        "  return \" \".join(swapped_words)"
      ],
      "metadata": {
        "id": "-WWQGN73AslW"
      },
      "execution_count": null,
      "outputs": []
    },
    {
      "cell_type": "code",
      "source": [
        "# ZeroDivision Error and Value Error\n",
        "try:\n",
        "  a= int(input())\n",
        "  b=int(input())\n",
        "  print(a/b)\n",
        "except ZeroDivisionError:\n",
        "  print(\"Don't enter zero\")\n",
        "except ValueError:\n",
        "  print(\"Enter integral value\")\n",
        "if a<0 or b<0:\n",
        "  raise Exception(\"Enter positive numbers only\")"
      ],
      "metadata": {
        "colab": {
          "base_uri": "https://localhost:8080/"
        },
        "id": "aLMG9nPlJLvb",
        "outputId": "9e5192f7-2ac5-4a23-d54a-609303b1ed57"
      },
      "execution_count": 51,
      "outputs": [
        {
          "output_type": "stream",
          "name": "stdout",
          "text": [
            "4\n",
            "5\n",
            "0.8\n"
          ]
        }
      ]
    },
    {
      "cell_type": "code",
      "source": [
        "# Key Error\n",
        "\n",
        "def get_value(dictionary, key):\n",
        "  try:\n",
        "    # Return the value associated with the key\n",
        "    return dictionary[\"key\"]\n",
        "  except KeyError:\n",
        "    # Handle the case when the key does not exist in the dictionary\n",
        "    print(f\"The key {key} does not exist in the dictionary. Cannot get the value.\")\n",
        "\n",
        "dict_1 = {\"A\": \"Mango\", \"B\": \"Apple\"}\n",
        "get_value(dict_1, \"C\")"
      ],
      "metadata": {
        "colab": {
          "base_uri": "https://localhost:8080/"
        },
        "id": "FaK_KCFP3j5f",
        "outputId": "eea5ed0f-0e52-4bbb-d426-eea9318d76ca"
      },
      "execution_count": 64,
      "outputs": [
        {
          "output_type": "stream",
          "name": "stdout",
          "text": [
            "The key C does not exist in the dictionary. Cannot get the value.\n"
          ]
        }
      ]
    },
    {
      "cell_type": "code",
      "source": [
        "# Index Error\n",
        "def let_try(string_1, i_1):\n",
        "  try:\n",
        "    string_1 = input(\"Enter the string\")\n",
        "    i_1 = int(input(\"Enter the key\"))\n",
        "    return string_1[i_1]\n",
        "  except IndexError:\n",
        "    print(f\"The index {i_1} is out of range\")\n",
        "  except ValueError:\n",
        "    print(\"Enter the correct data-type\")\n",
        "\n",
        "let_try(string_1, i_1)\n",
        "# Note to self: when I define string_1 and i_1 outside the function the Value-Error was not shown."
      ],
      "metadata": {
        "colab": {
          "base_uri": "https://localhost:8080/"
        },
        "id": "Ot7RykTa4gX8",
        "outputId": "5e20c77f-33c9-4ebc-89c0-b49d6eacd4fd"
      },
      "execution_count": 63,
      "outputs": [
        {
          "output_type": "stream",
          "name": "stdout",
          "text": [
            "Enter the stringabcd\n",
            "Enter the keya\n",
            "Enter \n"
          ]
        }
      ]
    },
    {
      "cell_type": "code",
      "source": [
        "# Type-Error\n",
        "def average(numbers):\n",
        "  try:\n",
        "    # Calculate the sum and length of the list\n",
        "    total = sum(numbers)\n",
        "    count = len(numbers)\n",
        "    # Return the average by dividing the sum by the length\n",
        "    return total / count\n",
        "  except ZeroDivisionError:\n",
        "    # Handle the case when the list is empty\n",
        "    print(\"The list is empty. Cannot calculate the average.\")\n",
        "  except TypeError:\n",
        "    # Handle the case when the list contains non-numeric values\n",
        "    print(\"The list contains invalid values. Cannot calculate the average.\")"
      ],
      "metadata": {
        "id": "LQ-cnkItTk-m"
      },
      "execution_count": null,
      "outputs": []
    },
    {
      "cell_type": "code",
      "source": [
        "# FileNOtfounError\n",
        "\n",
        "def count_word(filename, word):\n",
        "  try:\n",
        "    # Open the file in read mode\n",
        "    file = open(filename, \"r\")\n",
        "    # Read the content of the file\n",
        "    content = file.read()\n",
        "    # Close the file\n",
        "    file.close()\n",
        "    # Check if the word is empty\n",
        "    if not word:\n",
        "      # Raise a ValueError\n",
        "      raise ValueError(\"The word cannot be empty.\")\n",
        "    # Return the number of times the word appears in the content\n",
        "    return content.count(word)\n",
        "  except FileNotFoundError:\n",
        "    # Handle the case when the file does not exist\n",
        "    print(f\"The file {filename} does not exist. Cannot count the word.\")\n",
        "  except ValueError as e:\n",
        "    # Handle the case when the word is empty\n",
        "    print(e)"
      ],
      "metadata": {
        "id": "egavhbht8guw"
      },
      "execution_count": null,
      "outputs": []
    }
  ]
}